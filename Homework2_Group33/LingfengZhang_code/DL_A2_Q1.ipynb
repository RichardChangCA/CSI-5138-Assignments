{
 "cells": [
  {
   "cell_type": "code",
   "execution_count": 58,
   "metadata": {},
   "outputs": [
    {
     "name": "stdout",
     "output_type": "stream",
     "text": [
      "final A & B\n",
      "A [[0.30119641 0.29793777]\n",
      " [0.17353612 0.2601095 ]]\n",
      "B [[-0.00752434  0.12980653]\n",
      " [ 0.22489719  0.28792535]]\n"
     ]
    },
    {
     "data": {
      "image/png": "[encoded data removed]",
      "text/plain": [
       "<Figure size 432x288 with 1 Axes>"
      ]
     },
     "metadata": {
      "needs_background": "light"
     },
     "output_type": "display_data"
    }
   ],
   "source": [
    "import numpy as np\n",
    "import math\n",
    "import matplotlib.pyplot as plt\n",
    "\n",
    "k=2\n",
    "A =  np.random.rand(k,k)\n",
    "B =  np.random.rand(k,k)\n",
    "x = np.ones(k)\n",
    "\n",
    "def sigmoid(y):\n",
    "    u = np.zeros(len(y))\n",
    "    for i in range(len(y)):\n",
    "        try:\n",
    "            u[i] = math.exp(y[i]) / (math.exp(y[i]) + 1)\n",
    "        except OverflowError:\n",
    "            u[i] = 1.0\n",
    "    return u\n",
    "\n",
    "# print(\"A\",A)\n",
    "# print(\"B\",B)\n",
    "# print(\"x\",x)\n",
    "\n",
    "learning_time = 1000\n",
    "learning_rate = 0.001\n",
    "threshold = 0\n",
    "L_list = []\n",
    "for time in range(learning_time):\n",
    "    if time % 100 == 0:\n",
    "        learning_rate = learning_rate * 0.95\n",
    "#         weight decay\n",
    "    y = np.matmul(A,x)\n",
    "\n",
    "    u = sigmoid(y)\n",
    "\n",
    "    v = np.matmul(B,x)\n",
    "\n",
    "    element_wise = np.multiply(u,v)\n",
    "\n",
    "    z = np.matmul(A,element_wise)\n",
    "\n",
    "    w = np.matmul(A,z)\n",
    "\n",
    "    L = np.sum(np.multiply(w,w))\n",
    "\n",
    "#     print(\"L\",L)\n",
    "    L_list.append(L)\n",
    "#     plt.plot(time,L,'ro')\n",
    "    \n",
    "\n",
    "    trans_A = np.transpose(A)\n",
    "    \n",
    "    deriv_y = np.multiply(np.matmul(np.matmul(2*trans_A,trans_A),w),v)\n",
    "    \n",
    "    A_der = np.matmul(2*w[:,None],z[None,:])+\\\n",
    "        np.matmul(np.matmul(2*trans_A,w)[:,None],np.multiply(u,v)[None,:])+\\\n",
    "        np.matmul(np.multiply(sigmoid(deriv_y),np.ones(k)-sigmoid(deriv_y))[:,None],x[None,:])\n",
    "    \n",
    "    \n",
    "    \n",
    "    A = A - learning_rate * A_der\n",
    "    \n",
    "#     print(\"A\",A)\n",
    "\n",
    "    B_der = np.matmul(np.multiply(np.matmul(np.matmul(2*trans_A,trans_A),w),u)[:,None],x[None,:])\n",
    "    \n",
    "    \n",
    "    B = B - learning_rate * B_der\n",
    "    \n",
    "#     print(\"B\",B)\n",
    "    \n",
    "    if L < threshold:\n",
    "        plt.plot(range(time+1),L_list,'r-')\n",
    "        print(\"final A & B\")\n",
    "        print(\"A\",A)\n",
    "        print(\"B\",B)\n",
    "        break;\n",
    "    elif time == learning_time - 1:\n",
    "        plt.plot(range(time+1),L_list,'r-')\n",
    "        print(\"final A & B\")\n",
    "        print(\"A\",A)\n",
    "        print(\"B\",B)\n",
    "\n",
    "plt.show()"
   ]
  },
  {
   "cell_type": "code",
   "execution_count": 20,
   "metadata": {},
   "outputs": [
    {
     "name": "stdout",
     "output_type": "stream",
     "text": [
      "y_1 (3,)\n",
      "y_3 (2, 4)\n",
      "B [[0.80807011 0.41732109 0.51285652]\n",
      " [0.39080616 0.73454254 0.23456342]]\n",
      "C [[0.16611455 0.34316692 0.24604083]\n",
      " [0.87772276 0.10017839 0.4196628 ]]\n",
      "B*C [[0.1342322  0.14321079 0.12618365]\n",
      " [0.34301946 0.07358529 0.09843754]]\n"
     ]
    }
   ],
   "source": [
    "import numpy as np\n",
    "x = np.ones(2)\n",
    "A = np.random.rand(2,3)\n",
    "x_2 = np.ones((3,4))\n",
    "# y = np.matmul(A,x) 报错\n",
    "y_1 = np.matmul(x,A)\n",
    "# y_2 = np.matmul(x_2,A) 报错\n",
    "y_3 = np.matmul(A,x_2)\n",
    "print(\"y_1\",np.shape(y_1))\n",
    "print(\"y_3\",np.shape(y_3))\n",
    "B = np.random.rand(2,3)\n",
    "print(\"B\",B)\n",
    "C = np.random.rand(2,3)\n",
    "print(\"C\",C)\n",
    "print(\"B*C\",B*C)"
   ]
  },
  {
   "cell_type": "code",
   "execution_count": null,
   "metadata": {},
   "outputs": [],
   "source": []
  }
 ],
 "metadata": {
  "kernelspec": {
   "display_name": "Python 3",
   "language": "python",
   "name": "python3"
  },
  "language_info": {
   "codemirror_mode": {
    "name": "ipython",
    "version": 3
   },
   "file_extension": ".py",
   "mimetype": "text/x-python",
   "name": "python",
   "nbconvert_exporter": "python",
   "pygments_lexer": "ipython3",
   "version": "3.7.3"
  }
 },
 "nbformat": 4,
 "nbformat_minor": 2
}
